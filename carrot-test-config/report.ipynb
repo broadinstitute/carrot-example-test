{
 "cells": [
  {
   "cell_type": "code",
   "execution_count": null,
   "metadata": {},
   "outputs": [],
   "source": [
    "import csv\n",
    "import os\n",
    "import sys\n",
    "\n",
    "# Get results from the results file\n",
    "results = {}\n",
    "with open(\"results.csv\", newline='') as results_csv:\n",
    "    csv_reader = csv.reader(results_csv)\n",
    "    # Get the header\n",
    "    header = next(csv_reader)\n",
    "    # Now get the results\n",
    "    row = next(csv_reader)\n",
    "    for i in range(0, len(row)):\n",
    "        results[header[i]] = row[i]\n",
    "# Download files in results\n",
    "result_files = {}\n",
    "for key, val in results.items():\n",
    "    if val.startswith('gs://'):\n",
    "        # Attempt to download with gsutil\n",
    "        os.makedirs(f'carrot_downloads/{key}', exist_ok=True)\n",
    "        filepath = f'carrot_downloads/{key.replace(\" \", \"_\")}/{val[val.rfind(\"/\")+1:]}'\n",
    "        download_status = os.system(f'gsutil cp {val} {filepath} >/dev/null 2>&1')\n",
    "        # If it failed, print an error message and exit\n",
    "        if download_status != 0:\n",
    "            sys.exit(f\"gsutil terminated with an non-zero exit code when attempting to download {val}\")\n",
    "        # If it succeeded, add it to our file list\n",
    "        result_files[key] = filepath"
   ]
  },
  {
   "cell_type": "code",
   "execution_count": null,
   "metadata": {},
   "outputs": [],
   "source": [
    "import csv\n",
    "\n",
    "# Load data and comparison files\n",
    "data = [[], []]\n",
    "with open(result_files[\"example data file\"]) as data_file:\n",
    "    data_csv = csv.reader(data_file)\n",
    "    for row in data_csv:\n",
    "        if len(row) > 1:\n",
    "            data[0].append(float(row[0]))\n",
    "            data[1].append(float(row[1]))\n",
    "\n",
    "comparison = [[], []]\n",
    "with open(result_files[\"example comparison file\"]) as comparison_file:\n",
    "    comparison_csv = csv.reader(comparison_file)\n",
    "    for row in comparison_csv:\n",
    "        if len(row) > 1:\n",
    "            comparison[0].append(float(row[0]))\n",
    "            comparison[1].append(float(row[1]))\n",
    "\n",
    "# Prepare the default data\n",
    "default = [[], []]\n",
    "for i in range(0, 21, 1):\n",
    "    default[0].append(i/10.0)\n",
    "    default[1].append(pow(2, i/10.0))"
   ]
  },
  {
   "cell_type": "code",
   "execution_count": null,
   "metadata": {},
   "outputs": [],
   "source": [
    "import numpy as np\n",
    "import matplotlib.pyplot as plt\n",
    "import math\n",
    "\n",
    "fig, ax = plt.subplots()\n",
    "# Plot data first\n",
    "ax.scatter(data[0], data[1], c='tab:blue', label=\"data\")\n",
    "# Then comparison\n",
    "ax.scatter(comparison[0], comparison[1], c='tab:green', label=\"diff\")\n",
    "# Finally the default that was compared against\n",
    "ax.scatter(default[0], default[1], c='tab:red', label=\"default\")\n",
    "\n",
    "ax.legend()\n",
    "ax.grid(True)\n",
    "\n",
    "y_vals = data[1] + comparison[1] + default[1]\n",
    "y_max = math.ceil(max(y_vals))\n",
    "plt.xticks(np.arange(0, 2.0, 0.2))\n",
    "plt.yticks(np.arange(0, y_max, y_max/10.0))\n",
    "\n",
    "plt.show()"
   ]
  }
 ],
 "metadata": {
  "interpreter": {
   "hash": "1ee38ef4a5a9feb55287fd749643f13d043cb0a7addaab2a9c224cbe137c0062"
  },
  "kernelspec": {
   "display_name": "Python 3.8.12 64-bit",
   "language": "python",
   "name": "python3"
  },
  "language_info": {
   "codemirror_mode": {
    "name": "ipython",
    "version": 3
   },
   "file_extension": ".py",
   "mimetype": "text/x-python",
   "name": "python",
   "nbconvert_exporter": "python",
   "pygments_lexer": "ipython3",
   "version": "3.8.13"
  },
  "metadata": {
   "interpreter": {
    "hash": "aee8b7b246df8f9039afb4144a1f6fd8d2ca17a180786b69acc140d282b71a49"
   }
  },
  "orig_nbformat": 2
 },
 "nbformat": 4,
 "nbformat_minor": 2
}